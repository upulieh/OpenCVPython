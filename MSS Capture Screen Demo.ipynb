{
 "cells": [
  {
   "cell_type": "code",
   "execution_count": null,
   "id": "70d4c32d",
   "metadata": {},
   "outputs": [],
   "source": [
    "# A demo for trying out the MSS Screen capturing library in Jupyter notebook\n",
    "\n",
    "from mss import mss\n",
    "import cv2\n",
    "from PIL import Image #PILLOW\n",
    "import numpy as np\n",
    "from time import time #to measure the performance (to check the fps)\n",
    "\n",
    "# define the resolution of the capture screen (use a smaller resolution for ML)\n",
    "mon = {'top':100,'left':100,'width':1600,'height':1024} #starting point of the monitor\n",
    "\n",
    "# define the MSS function\n",
    "sct = mss()\n",
    "\n",
    "# the infinite loop\n",
    "while 1:\n",
    "    \n",
    "    #timestamp\n",
    "    begin_time = time()\n",
    "    \n",
    "    \n",
    "    sct_img = sct.grab(mon) #grab the monitor\n",
    "    img = Image.frombytes('RGB',(sct_img.size.width,sct_img.size.height),sct_img.rgb) #what kind of image we need (we need an image that can be shown using openCV)\n",
    "    \n",
    "    #change RGB to BGR\n",
    "    img_bgr = cv2.cvtColor(np.array(img),cv2.COLOR_RGB2BGR)\n",
    "    \n",
    "    cv2.imshow('test',np.array(img_bgr)) #show transformed in a numpy array\n",
    "    print('This frame takes {} seconds.',format(time()-begin_time)) # each frame process takes around 70 mili seconds (not GPU based so it's a good value)\n",
    "    \n",
    "    #define a bp(breakpoint)\n",
    "    if cv2.waitKey(25) & 0xFF == ord('q'):\n",
    "        cv2.destroyAllWindows()\n",
    "        break"
   ]
  }
 ],
 "metadata": {
  "kernelspec": {
   "display_name": "Python 3",
   "language": "python",
   "name": "python3"
  },
  "language_info": {
   "codemirror_mode": {
    "name": "ipython",
    "version": 3
   },
   "file_extension": ".py",
   "mimetype": "text/x-python",
   "name": "python",
   "nbconvert_exporter": "python",
   "pygments_lexer": "ipython3",
   "version": "3.8.3"
  }
 },
 "nbformat": 4,
 "nbformat_minor": 5
}
